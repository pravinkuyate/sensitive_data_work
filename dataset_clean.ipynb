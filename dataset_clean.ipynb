{
 "cells": [
  {
   "cell_type": "code",
   "execution_count": 31,
   "metadata": {},
   "outputs": [
    {
     "name": "stdout",
     "output_type": "stream",
     "text": [
      "           Name   Password          Aadhar        PAN         Contact  \\\n",
      "0   Amit Sharma    amit123  9876-5432-1098  MNOP5678C  +91 7654321098   \n",
      "1    Neha Verma    neha789  3456-7890-1234  UVWX5678H  +91 8765432101   \n",
      "2  Rahul Kapoor   rahul567  6543-2109-8765  GHIJ4567K  +91 6789012345   \n",
      "3   Kavya Reddy   kavya123  8901-2345-6789  LKJI7890E  +91 9876543210   \n",
      "4  Vikram Singh  vikram789  2345-6789-0123  OPQR9012A  +91 5432109876   \n",
      "\n",
      "           Credit_Card  \n",
      "0  1234-5678-9012-3456  \n",
      "1  2345-6789-0123-4567  \n",
      "2  3456-7890-1234-5678  \n",
      "3  4567-9012-3456-7890  \n",
      "4  5678-9012-3456-7890  \n",
      "Name           0\n",
      "Password       0\n",
      "Aadhar         0\n",
      "PAN            0\n",
      "Contact        0\n",
      "Credit_Card    0\n",
      "dtype: int64\n",
      "           Name   Password          Aadhar        PAN      Contact  \\\n",
      "0   Amit Sharma    amit123  9876-5432-1098  MNOP5678C   7654321098   \n",
      "1    Neha Verma    neha789  3456-7890-1234  UVWX5678H   8765432101   \n",
      "2  Rahul Kapoor   rahul567  6543-2109-8765  GHIJ4567K   6789012345   \n",
      "3   Kavya Reddy   kavya123  8901-2345-6789  LKJI7890E   9876543210   \n",
      "4  Vikram Singh  vikram789  2345-6789-0123  OPQR9012A   5432109876   \n",
      "\n",
      "           Credit_Card  \n",
      "0  1234-5678-9012-3456  \n",
      "1  2345-6789-0123-4567  \n",
      "2  3456-7890-1234-5678  \n",
      "3  4567-9012-3456-7890  \n",
      "4  5678-9012-3456-7890  \n"
     ]
    }
   ],
   "source": [
    "import pandas as pd\n",
    "\n",
    "df=pd.read_csv(r\"C:\\Users\\pravinkuyate\\Downloads\\sensitive_dataset.csv\")\n",
    "print(df.head())\n",
    "print(df.isnull().sum())\n",
    "df['Contact']=df['Contact'].str.replace('+91','')\n",
    "print(df.head())\n"
   ]
  },
  {
   "cell_type": "code",
   "execution_count": 34,
   "metadata": {},
   "outputs": [
    {
     "data": {
      "text/plain": [
       "0    -1\n",
       "1    -1\n",
       "2    -1\n",
       "3    -1\n",
       "4    -1\n",
       "     ..\n",
       "56   -1\n",
       "57   -1\n",
       "58   -1\n",
       "59   -1\n",
       "60   -1\n",
       "Name: category, Length: 61, dtype: int64"
      ]
     },
     "execution_count": 34,
     "metadata": {},
     "output_type": "execute_result"
    }
   ],
   "source": [
    "\n",
    "df['category'] = df.apply(lambda row: 0 if str(row['Password']).isdigit() else\n",
    "                                    1 if str(row['Aadhar']).isdigit() else\n",
    "                                    2 if str(row['PAN']).isdigit() else\n",
    "                                    3 if str(row['Contact']).isdigit() else \n",
    "                                    4 if str(row['Credit_Card']).isdigit()else\n",
    "                                    5 if str(row['User_Name']).isdigit()else\n",
    "                                    -1, axis=1)\n",
    "\n",
    "df['category']"
   ]
  },
  {
   "cell_type": "code",
   "execution_count": 39,
   "metadata": {},
   "outputs": [
    {
     "ename": "NameError",
     "evalue": "name 'LabelEncoder' is not defined",
     "output_type": "error",
     "traceback": [
      "\u001b[1;31m---------------------------------------------------------------------------\u001b[0m",
      "\u001b[1;31mNameError\u001b[0m                                 Traceback (most recent call last)",
      "\u001b[1;32mc:\\Users\\pravinkuyate\\OneDrive\\Desktop\\project01\\dataset_clean.ipynb Cell 3\u001b[0m line \u001b[0;36m2\n\u001b[0;32m     <a href='vscode-notebook-cell:/c%3A/Users/pravinkuyate/OneDrive/Desktop/project01/dataset_clean.ipynb#W1sZmlsZQ%3D%3D?line=17'>18</a>\u001b[0m x \u001b[39m=\u001b[39m df\u001b[39m.\u001b[39miloc[: ,\u001b[39m1\u001b[39m:\u001b[39m5\u001b[39m]\n\u001b[0;32m     <a href='vscode-notebook-cell:/c%3A/Users/pravinkuyate/OneDrive/Desktop/project01/dataset_clean.ipynb#W1sZmlsZQ%3D%3D?line=18'>19</a>\u001b[0m y\u001b[39m=\u001b[39m df[\u001b[39m'\u001b[39m\u001b[39mcategory\u001b[39m\u001b[39m'\u001b[39m]\n\u001b[1;32m---> <a href='vscode-notebook-cell:/c%3A/Users/pravinkuyate/OneDrive/Desktop/project01/dataset_clean.ipynb#W1sZmlsZQ%3D%3D?line=19'>20</a>\u001b[0m label_encoder \u001b[39m=\u001b[39m LabelEncoder()\n\u001b[0;32m     <a href='vscode-notebook-cell:/c%3A/Users/pravinkuyate/OneDrive/Desktop/project01/dataset_clean.ipynb#W1sZmlsZQ%3D%3D?line=20'>21</a>\u001b[0m \u001b[39mfor\u001b[39;00m column \u001b[39min\u001b[39;00m [ \u001b[39m'\u001b[39m\u001b[39mPassword\u001b[39m\u001b[39m'\u001b[39m, \u001b[39m'\u001b[39m\u001b[39mAadhar\u001b[39m\u001b[39m'\u001b[39m, \u001b[39m'\u001b[39m\u001b[39mPAN\u001b[39m\u001b[39m'\u001b[39m, \u001b[39m'\u001b[39m\u001b[39mContact\u001b[39m\u001b[39m'\u001b[39m,\u001b[39m'\u001b[39m\u001b[39mCredit_Card\u001b[39m\u001b[39m'\u001b[39m]:\n\u001b[0;32m     <a href='vscode-notebook-cell:/c%3A/Users/pravinkuyate/OneDrive/Desktop/project01/dataset_clean.ipynb#W1sZmlsZQ%3D%3D?line=21'>22</a>\u001b[0m     df[column] \u001b[39m=\u001b[39m label_encoder\u001b[39m.\u001b[39mfit_transform(df[column])\n",
      "\u001b[1;31mNameError\u001b[0m: name 'LabelEncoder' is not defined"
     ]
    }
   ],
   "source": [
    "import numpy as np \n",
    "import pandas as pd\n",
    "from sklearn.model_selection import train_test_split\n",
    "#from sklearn.linear_model import \n",
    "from sklearn.preprocessing import OneHotEncoder \n",
    "import pickle\n",
    "\n",
    "df=pd.read_csv(\"sensitive_dataset.csv\")\n",
    "\n",
    "df[\"Contact\"]=df[\"Contact\"].replace('+91',\"\")\n",
    "#df.head()\n",
    "df['category'] = df.apply(lambda row: 0 if str(row['Password']).isdigit() else\n",
    "                                    1 if str(row['Aadhar']).isdigit() else\n",
    "                                    2 if str(row['PAN']).isdigit() else\n",
    "                                    3 if str(row['Contact']).isdigit() else \n",
    "                                    4 if str(row['Credit_Card']).isdigit()else\n",
    "                                    -1, axis=1)\n",
    "\n",
    "x = df.iloc[: ,1:5]\n",
    "y= df['category']\n",
    "label_encoder = \n",
    "for column in [ 'Password', 'Aadhar', 'PAN', 'Contact','Credit_Card']:\n",
    "    df[column] = label_encoder.fit_transform(df[column])\n",
    "\n",
    "\n",
    "x_train,x_test,y_train,y_test=train_test_split(x,y,test_size=0.2,\n",
    "                                               random_state=42)\n",
    "\n",
    "from sklearn.naive_bayes import GaussianNB\n",
    "model= GaussianNB()\n",
    "model.fit(x_train,y_train)\n",
    "\n",
    "y_pred=model.predict(x_test)"
   ]
  },
  {
   "cell_type": "code",
   "execution_count": 1,
   "metadata": {},
   "outputs": [],
   "source": [
    "import re\n",
    "import pickle\n",
    "\n",
    "\n",
    "patterns = { \n",
    "    'credit_card': r'\\b(?:\\d[ -]*?){13,16}\\b',\n",
    "    'contact': r'(\\d{10}|\\d{3}[-.\\s]?\\d{3}[-.\\s]?\\d{4}|\\(\\d{3}\\)\\s*\\d{3}[-.\\s]?\\d{4})',\n",
    "    'pan': r'[A-Z]{5}[0-9]{4}[A-Z]{1}|[a-z]{5}[0-9]{4}[a-z]{1}',\n",
    "    'aadhar': r'\\b\\d{4}\\s\\d{4}\\s\\d{4}\\b',\n",
    "    'password': r'\\bpassword\\b|^(?=.*[A-Z])(?=.*[a-z])(?=.*\\d)(?=.*[@$!%*?&])[A-Za-z\\d@$!%*?&]{8,20}$'\n",
    "    ''\n",
    "}\n",
    "\n",
    "\n",
    "def detect_sensitive_data(text):\n",
    "    sensitive_info = {}\n",
    "    for key, pattern in patterns.items():\n",
    "        \n",
    "        matches = re.findall(pattern, text)\n",
    "        print(matches)\n",
    "        if matches:\n",
    "            sensitive_info[key] = matches\n",
    "    return sensitive_info\n",
    "\n",
    "\n",
    "example_text = input(\"enter the email\")\n",
    "\n",
    "sensitive_data = detect_sensitive_data(example_text)\n",
    "\n",
    "\n",
    "    \n",
    "\n",
    "with open('sensitive_data_model.pkl', 'wb') as file:\n",
    "    pickle.dump(sensitive_data, file)\n",
    "    print(file)\n",
    "    print(\"Model Created\")\n",
    "    print(sensitive_data)"
   ]
  },
  {
   "cell_type": "code",
   "execution_count": null,
   "metadata": {},
   "outputs": [],
   "source": []
  }
 ],
 "metadata": {
  "kernelspec": {
   "display_name": "base",
   "language": "python",
   "name": "python3"
  },
  "language_info": {
   "codemirror_mode": {
    "name": "ipython",
    "version": 3
   },
   "file_extension": ".py",
   "mimetype": "text/x-python",
   "name": "python",
   "nbconvert_exporter": "python",
   "pygments_lexer": "ipython3",
   "version": "3.9.18"
  }
 },
 "nbformat": 4,
 "nbformat_minor": 2
}
