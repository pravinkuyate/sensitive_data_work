{
 "cells": [
  {
   "cell_type": "code",
   "execution_count": 6,
   "metadata": {},
   "outputs": [],
   "source": [
    "import json\n",
    "from faker import Faker\n",
    "from faker.providers import BaseProvider\n",
    "import random\n",
    "\n",
    "class CustomProvider(BaseProvider):\n",
    "    def pan_number(self):\n",
    "        # Generate a PAN number with the specified format: '[A-Za-z]{5}[0-9]{4}[A-Za-z]{1}'\n",
    "        return self.random_element([\"\".join(random.choices('ABCDEFGHIJKLMNOPQRSTUVWXYZ', k=5)),\n",
    "                                    str(random.randint(1000, 9999)),\n",
    "                                    \"\".join(random.choices('ABCDEFGHIJKLMNOPQRSTUVWXYZ', k=1))])\n",
    "\n",
    "# Add the custom provider to the Faker instance\n",
    "fake = Faker()\n",
    "fake.add_provider(CustomProvider)\n",
    "\n",
    "num_samples = 10000 \n",
    "\n",
    "data = []\n",
    "for _ in range(num_samples):\n",
    "    username = fake.user_name()\n",
    "    password = fake.password()\n",
    "    pan_number = fake.pan_number()\n",
    "    aadhar_number = fake.random_int(min=100000000000, max=999999999999, step=1)\n",
    "    credit_card_number = fake.credit_card_number(card_type='mastercard')\n",
    "    mobile_number = fake.phone_number()\n",
    "\n",
    "    # Assume sensitive information is present in 20% of the samples\n",
    "    has_sensitive_info = random.choice([0, 1])  # 0: No, 1: Yes\n",
    "\n",
    "    data.append({\n",
    "        'Username': username,\n",
    "        'Password': password,\n",
    "        'PAN Number': pan_number,\n",
    "        'Aadhar Number': aadhar_number,\n",
    "        'Credit Card Number': credit_card_number,\n",
    "        'Mobile Number': mobile_number,\n",
    "        'Has Sensitive Info': has_sensitive_info\n",
    "    })\n",
    "\n",
    "# Specify the desired location and filename\n",
    "desired_location = r\"C:\\Users\\pravinkuyate\\OneDrive\\Desktop\\project01\\synthetic_labeled_dataset.json\"\n",
    "\n",
    "# Save synthetic labeled data to a JSON file at the desired location\n",
    "with open(desired_location, 'w') as json_file:\n",
    "    json.dump(data, json_file, indent=2)\n",
    "\n",
    "    \n"
   ]
  },
  {
   "cell_type": "code",
   "execution_count": null,
   "metadata": {},
   "outputs": [],
   "source": []
  },
  {
   "cell_type": "code",
   "execution_count": 4,
   "metadata": {},
   "outputs": [
    {
     "name": "stdout",
     "output_type": "stream",
     "text": [
      "Requirement already satisfied: Faker in c:\\programdata\\anaconda3\\lib\\site-packages (20.1.0)\n",
      "Requirement already satisfied: python-dateutil>=2.4 in c:\\programdata\\anaconda3\\lib\\site-packages (from Faker) (2.8.2)\n",
      "Requirement already satisfied: six>=1.5 in c:\\programdata\\anaconda3\\lib\\site-packages (from python-dateutil>=2.4->Faker) (1.16.0)\n",
      "Note: you may need to restart the kernel to use updated packages.\n"
     ]
    },
    {
     "name": "stderr",
     "output_type": "stream",
     "text": [
      "WARNING: Ignoring invalid distribution - (c:\\programdata\\anaconda3\\lib\\site-packages)\n",
      "WARNING: Ignoring invalid distribution -oblib (c:\\programdata\\anaconda3\\lib\\site-packages)\n",
      "WARNING: Ignoring invalid distribution -umpy (c:\\programdata\\anaconda3\\lib\\site-packages)\n",
      "WARNING: Ignoring invalid distribution -yzmq (c:\\programdata\\anaconda3\\lib\\site-packages)\n",
      "WARNING: Ignoring invalid distribution -blib (c:\\programdata\\anaconda3\\lib\\site-packages)\n",
      "WARNING: Ignoring invalid distribution -mpy (c:\\programdata\\anaconda3\\lib\\site-packages)\n",
      "WARNING: Ignoring invalid distribution - (c:\\programdata\\anaconda3\\lib\\site-packages)\n",
      "WARNING: Ignoring invalid distribution -oblib (c:\\programdata\\anaconda3\\lib\\site-packages)\n",
      "WARNING: Ignoring invalid distribution -umpy (c:\\programdata\\anaconda3\\lib\\site-packages)\n",
      "WARNING: Ignoring invalid distribution -yzmq (c:\\programdata\\anaconda3\\lib\\site-packages)\n",
      "WARNING: Ignoring invalid distribution -blib (c:\\programdata\\anaconda3\\lib\\site-packages)\n",
      "WARNING: Ignoring invalid distribution -mpy (c:\\programdata\\anaconda3\\lib\\site-packages)\n",
      "WARNING: There was an error checking the latest version of pip.\n"
     ]
    }
   ],
   "source": []
  },
  {
   "cell_type": "code",
   "execution_count": 15,
   "metadata": {},
   "outputs": [
    {
     "name": "stdout",
     "output_type": "stream",
     "text": [
      "The synthetic labeled dataset has been saved to C:\\Users\\pravinkuyate\\OneDrive\\Desktop\\project01\\synthetic_labeled_dataset.csv.\n"
     ]
    }
   ],
   "source": []
  },
  {
   "cell_type": "code",
   "execution_count": 2,
   "metadata": {},
   "outputs": [
    {
     "name": "stdout",
     "output_type": "stream",
     "text": [
      "No match found.\n"
     ]
    }
   ],
   "source": [
    "\n",
    "\n",
    "# Sample input\n",
    "text = \"My p@$$word is secretword, and my name is John Doe.\"\n",
    "\n",
    "# Regular expression pattern\n",
    "pattern = r'(?i)password\\s*([\\S]+)'\n",
    "\n",
    "# Find matches\n",
    "matches = re.search(pattern, text)\n",
    "\n",
    "# Extract the name if there is a match\n",
    "if matches:\n",
    "    name = matches.group(1)\n",
    "    print(f\"Name: {name}\")\n",
    "else:\n",
    "    print(\"No match found.\")"
   ]
  },
  {
   "cell_type": "code",
   "execution_count": 1,
   "metadata": {},
   "outputs": [
    {
     "name": "stdout",
     "output_type": "stream",
     "text": [
      "{'text': 'Industry however pass we. Everything road go along tend there. That wife impact our air.\\nEven help make single force.', 'class': 'non-sensitive'}\n",
      "{'text': 'Coach heart way suddenly evidence. Partner do believe window spring significant story.\\nBudget option song later above try anything.\\nWhose around improve also seat. Sport close at seem.', 'class': 'non-sensitive'}\n",
      "{'text': 'Administration travel significant current. left Health her least have about.', 'class': 'sensitive'}\n",
      "{'text': 'Tv today subject back option memory. Social common last marriage.\\nCampaign reduce leg need begin. Traditional heavy really tree.', 'class': 'non-sensitive'}\n",
      "{'text': 'Trip speech example compare. side Your source simple.', 'class': 'sensitive'}\n",
      "Data saved to: C:\\Users\\pravinkuyate\\OneDrive\\Desktop\\project01\\generated_data.json\n"
     ]
    }
   ],
   "source": []
  },
  {
   "cell_type": "code",
   "execution_count": null,
   "metadata": {},
   "outputs": [],
   "source": [
    "from faker import Faker\n",
    "import json\n",
    "import random\n",
    "\n",
    "fake = Faker()\n",
    "def generate_sensitive_data():\n",
    "    return [\n",
    "        {\"text\": fake.name(), \"class\": \"Name\"},\n",
    "        {\"text\": fake.email(), \"class\": \"Email\"},\n",
    "        {\"text\": fake.phone_number(), \"class\": \"Phone\"},\n",
    "        {\"text\": fake.credit_card_number(), \"class\": \"CreditCard\"},\n",
    "        {\"text\": fake.password(), \"class\": \"Password\"},\n",
    "        {\"text\": fake.ssn(), \"class\": \"AadharNumber\"},\n",
    "        {\"text\": fake.random_element(elements=('ABCDE1234F', 'XYZ1234P')), \"class\": \"PanNumber\"},\n",
    "    ]\n",
    "\n",
    "def generate_non_sensitive_data():\n",
    "    return [\n",
    "        {\"text\": fake.word(), \"class\": \"NonSensitive\"},\n",
    "        {\"text\": fake.sentence(), \"class\": \"NonSensitive\"},\n",
    "        {\"text\": fake.paragraph(), \"class\": \"NonSensitive\"},\n",
    "    ]\n",
    "\n",
    "def generate_mixed_dataset(num_sensitive, num_non_sensitive):\n",
    "    dataset = []\n",
    "\n",
    "    for _ in range(num_sensitive):\n",
    "        dataset.extend(generate_sensitive_data())\n",
    "\n",
    "    for _ in range(num_non_sensitive):\n",
    "        dataset.extend(generate_non_sensitive_data())\n",
    "\n",
    "    random.shuffle(dataset)\n",
    "    return dataset\n",
    "\n",
    "# Generate a dataset with 500 sensitive and 500 non-sensitive rows\n",
    "dataset = generate_mixed_dataset(500, 500)\n",
    "file_path=r\"C:\\Users\\pravinkuyate\\OneDrive\\Desktop\\project01\"\n",
    "# Save the dataset to a JSON file\n",
    "with open('dummy_dataset.json', 'w') as json_file:\n",
    "    json.dump(file_path, json_file, indent=2)\n",
    "\n",
    "\n",
    "print(\"Dummy dataset generated and saved to dummy_dataset.json.\")\n"
   ]
  },
  {
   "cell_type": "code",
   "execution_count": 1,
   "metadata": {},
   "outputs": [
    {
     "name": "stdout",
     "output_type": "stream",
     "text": [
      "Requirement already satisfied: faker in c:\\programdata\\anaconda3\\lib\\site-packages (20.1.0)\n",
      "Requirement already satisfied: python-dateutil>=2.4 in c:\\programdata\\anaconda3\\lib\\site-packages (from faker) (2.8.2)\n",
      "Requirement already satisfied: six>=1.5 in c:\\programdata\\anaconda3\\lib\\site-packages (from python-dateutil>=2.4->faker) (1.16.0)\n",
      "Note: you may need to restart the kernel to use updated packages.\n"
     ]
    },
    {
     "name": "stderr",
     "output_type": "stream",
     "text": [
      "WARNING: Ignoring invalid distribution - (c:\\programdata\\anaconda3\\lib\\site-packages)\n",
      "WARNING: Ignoring invalid distribution -oblib (c:\\programdata\\anaconda3\\lib\\site-packages)\n",
      "WARNING: Ignoring invalid distribution -umpy (c:\\programdata\\anaconda3\\lib\\site-packages)\n",
      "WARNING: Ignoring invalid distribution -yzmq (c:\\programdata\\anaconda3\\lib\\site-packages)\n",
      "WARNING: Ignoring invalid distribution -blib (c:\\programdata\\anaconda3\\lib\\site-packages)\n",
      "WARNING: Ignoring invalid distribution -mpy (c:\\programdata\\anaconda3\\lib\\site-packages)\n",
      "WARNING: Ignoring invalid distribution - (c:\\programdata\\anaconda3\\lib\\site-packages)\n",
      "WARNING: Ignoring invalid distribution -oblib (c:\\programdata\\anaconda3\\lib\\site-packages)\n",
      "WARNING: Ignoring invalid distribution -umpy (c:\\programdata\\anaconda3\\lib\\site-packages)\n",
      "WARNING: Ignoring invalid distribution -yzmq (c:\\programdata\\anaconda3\\lib\\site-packages)\n",
      "WARNING: Ignoring invalid distribution -blib (c:\\programdata\\anaconda3\\lib\\site-packages)\n",
      "WARNING: Ignoring invalid distribution -mpy (c:\\programdata\\anaconda3\\lib\\site-packages)\n",
      "WARNING: There was an error checking the latest version of pip.\n"
     ]
    }
   ],
   "source": [
    "pip install faker"
   ]
  },
  {
   "cell_type": "code",
   "execution_count": null,
   "metadata": {},
   "outputs": [],
   "source": []
  }
 ],
 "metadata": {
  "kernelspec": {
   "display_name": "base",
   "language": "python",
   "name": "python3"
  },
  "language_info": {
   "codemirror_mode": {
    "name": "ipython",
    "version": 3
   },
   "file_extension": ".py",
   "mimetype": "text/x-python",
   "name": "python",
   "nbconvert_exporter": "python",
   "pygments_lexer": "ipython3",
   "version": "3.9.18"
  }
 },
 "nbformat": 4,
 "nbformat_minor": 2
}
